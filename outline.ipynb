{
 "cells": [
  {
   "cell_type": "markdown",
   "metadata": {},
   "source": [
    "###  Sobel 이용"
   ]
  },
  {
   "cell_type": "code",
   "execution_count": 19,
   "metadata": {},
   "outputs": [
    {
     "name": "stdout",
     "output_type": "stream",
     "text": [
      "Requirement already satisfied: opencv-python in c:\\users\\yiuri\\appdata\\local\\programs\\python\\python39\\lib\\site-packages (4.10.0.84)\n",
      "Requirement already satisfied: numpy>=1.19.3 in c:\\users\\yiuri\\appdata\\local\\programs\\python\\python39\\lib\\site-packages (from opencv-python) (1.22.0)\n"
     ]
    },
    {
     "name": "stderr",
     "output_type": "stream",
     "text": [
      "WARNING: You are using pip version 21.2.4; however, version 24.3.1 is available.\n",
      "You should consider upgrading via the 'C:\\Users\\yiuri\\AppData\\Local\\Programs\\Python\\Python39\\python.exe -m pip install --upgrade pip' command.\n"
     ]
    }
   ],
   "source": [
    "#!pip install cv2\n",
    "#!pip install opencv-python\n",
    "!pip install --upgrade opencv-python\n"
   ]
  },
  {
   "cell_type": "code",
   "execution_count": 4,
   "metadata": {},
   "outputs": [
    {
     "name": "stderr",
     "output_type": "stream",
     "text": [
      "c:\\Users\\yiuri\\AppData\\Local\\Programs\\Python\\Python310\\lib\\site-packages\\tqdm\\auto.py:21: TqdmWarning: IProgress not found. Please update jupyter and ipywidgets. See https://ipywidgets.readthedocs.io/en/stable/user_install.html\n",
      "  from .autonotebook import tqdm as notebook_tqdm\n"
     ]
    },
    {
     "name": "stdout",
     "output_type": "stream",
     "text": [
      "Downloading from https://www.kaggle.com/api/v1/datasets/download/herbulaneum/oil-painting-images?dataset_version_number=2...\n"
     ]
    },
    {
     "name": "stderr",
     "output_type": "stream",
     "text": [
      "100%|██████████| 185M/185M [00:10<00:00, 18.3MB/s] "
     ]
    },
    {
     "name": "stdout",
     "output_type": "stream",
     "text": [
      "Extracting files...\n"
     ]
    },
    {
     "name": "stderr",
     "output_type": "stream",
     "text": [
      "\n"
     ]
    },
    {
     "name": "stdout",
     "output_type": "stream",
     "text": [
      "Path to dataset files: C:\\Users\\yiuri\\.cache\\kagglehub\\datasets\\herbulaneum\\oil-painting-images\\versions\\2\n"
     ]
    }
   ],
   "source": [
    "import kagglehub\n",
    "\n",
    "# Download latest version\n",
    "path = kagglehub.dataset_download(\"herbulaneum/oil-painting-images\")\n",
    "\n",
    "print(\"Path to dataset files:\", path)"
   ]
  },
  {
   "cell_type": "code",
   "execution_count": 20,
   "metadata": {},
   "outputs": [
    {
     "ename": "ModuleNotFoundError",
     "evalue": "No module named 'cv2'",
     "output_type": "error",
     "traceback": [
      "\u001b[1;31m---------------------------------------------------------------------------\u001b[0m",
      "\u001b[1;31mModuleNotFoundError\u001b[0m                       Traceback (most recent call last)",
      "Cell \u001b[1;32mIn[20], line 5\u001b[0m\n\u001b[0;32m      3\u001b[0m \u001b[38;5;28;01mimport\u001b[39;00m \u001b[38;5;21;01mos\u001b[39;00m\n\u001b[0;32m      4\u001b[0m \u001b[38;5;28;01mimport\u001b[39;00m \u001b[38;5;21;01mkagglehub\u001b[39;00m\n\u001b[1;32m----> 5\u001b[0m \u001b[38;5;28;01mimport\u001b[39;00m \u001b[38;5;21;01mcv2\u001b[39;00m\n\u001b[0;32m      8\u001b[0m \u001b[38;5;66;03m# Sobel 필터 결과를 저장할 출력 폴더 설정\u001b[39;00m\n\u001b[0;32m      9\u001b[0m output_folder \u001b[38;5;241m=\u001b[39m os\u001b[38;5;241m.\u001b[39mpath\u001b[38;5;241m.\u001b[39mjoin(path, \u001b[38;5;124m'\u001b[39m\u001b[38;5;124msobel_edges\u001b[39m\u001b[38;5;124m'\u001b[39m)\n",
      "\u001b[1;31mModuleNotFoundError\u001b[0m: No module named 'cv2'"
     ]
    },
    {
     "ename": "",
     "evalue": "",
     "output_type": "error",
     "traceback": [
      "\u001b[1;31m현재 셀 또는 이전 셀에서 코드를 실행하는 동안 Kernel이 충돌했습니다. \n",
      "\u001b[1;31m셀의 코드를 검토하여 가능한 오류 원인을 식별하세요. \n",
      "\u001b[1;31m자세한 내용을 보려면 <a href='https://aka.ms/vscodeJupyterKernelCrash'>여기</a>를 클릭하세요. \n",
      "\u001b[1;31m자세한 내용은 Jupyter <a href='command:jupyter.viewOutput'>로그</a>를 참조하세요."
     ]
    }
   ],
   "source": [
    "\n",
    "import numpy as np\n",
    "import glob\n",
    "import os\n",
    "import kagglehub\n",
    "import cv2\n",
    "\n",
    "\n",
    "# Sobel 필터 결과를 저장할 출력 폴더 설정\n",
    "output_folder = os.path.join(path, 'sobel_edges')\n",
    "if not os.path.exists(output_folder):\n",
    "    os.makedirs(output_folder)\n",
    "\n",
    "# 이미지 파일 불러오기 및 Sobel 필터 적용\n",
    "for image_path in glob.glob(os.path.join(path, '*.jpg')):  # 이미지 확장자를 맞게 변경할 수 있음\n",
    "    # 이미지 파일 이름 추출\n",
    "    filename = os.path.basename(image_path)\n",
    "    \n",
    "    # 이미지 불러오기\n",
    "    img = cv2.imread(image_path, cv2.IMREAD_GRAYSCALE)\n",
    "    if img is None:\n",
    "        print(f\"Failed to load image: {image_path}\")\n",
    "        continue\n",
    "\n",
    "    # Sobel 필터 적용 (x 방향과 y 방향)\n",
    "    sobel_x = cv2.Sobel(img, cv2.CV_64F, 1, 0, ksize=3)  # x 방향 경계 검출\n",
    "    sobel_y = cv2.Sobel(img, cv2.CV_64F, 0, 1, ksize=3)  # y 방향 경계 검출\n",
    "\n",
    "    # Sobel 결과를 결합하여 엣지 이미지 생성\n",
    "    sobel_edge = cv2.magnitude(sobel_x, sobel_y)\n",
    "    sobel_edge = np.uint8(np.clip(sobel_edge, 0, 255))  # 0-255 범위로 변환\n",
    "\n",
    "    # 엣지 이미지를 출력 폴더에 저장\n",
    "    output_path = os.path.join(output_folder, f'sobel_{filename}')\n",
    "    cv2.imwrite(output_path, sobel_edge)\n",
    "\n",
    "    print(f'Processed and saved: {output_path}')\n"
   ]
  }
 ],
 "metadata": {
  "kernelspec": {
   "display_name": "Python 3",
   "language": "python",
   "name": "python3"
  },
  "language_info": {
   "codemirror_mode": {
    "name": "ipython",
    "version": 3
   },
   "file_extension": ".py",
   "mimetype": "text/x-python",
   "name": "python",
   "nbconvert_exporter": "python",
   "pygments_lexer": "ipython3",
   "version": "3.10.6"
  }
 },
 "nbformat": 4,
 "nbformat_minor": 2
}
